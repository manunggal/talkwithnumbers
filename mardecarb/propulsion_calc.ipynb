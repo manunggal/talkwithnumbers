{
 "cells": [
  {
   "cell_type": "code",
   "execution_count": 1,
   "metadata": {},
   "outputs": [],
   "source": [
    "import polars as pl\n",
    "import numpy as np\n",
    "import pandas as pd\n",
    "import os\n",
    "import xlsxwriter\n",
    "import plotly.graph_objects as go"
   ]
  },
  {
   "cell_type": "code",
   "execution_count": 9,
   "metadata": {},
   "outputs": [
    {
     "name": "stdout",
     "output_type": "stream",
     "text": [
      "1296.1696306429549\n"
     ]
    }
   ],
   "source": [
    "# functions\n",
    "def calc_voyage_duration_hours(df, design_speed):\n",
    "    return df.with_columns((pl.col('distance') / design_speed).alias('voyage_duration_hours'))\n",
    "\n",
    "def calc_voyage_duration_days(df):\n",
    "    return df.with_columns((pl.col('voyage_duration_hours') / 24).alias('voyage_duration_days'))\n",
    "\n",
    "def calc_fuel_consumption(df, sfoc):\n",
    "    return df.with_columns((pl.col('voyage_duration_days')*sfoc).alias('fuel_consumption_ton'))\n",
    "\n",
    "def calc_hours_to_days(df):\n",
    "    return df.with_columns((pl.col('container_handling_duration_hours')/24).alias('container_handling_duration_days'))\n",
    "\n",
    "def rounding_days(df):\n",
    "    return df.with_columns((pl.col('total_duration_days') + 0.999999).cast(pl.Int32).alias('total_duration_days'))\n",
    "\n",
    "def calc_annual_cost_ice():\n",
    "    return Pinv_ice*(power**1.1)*(annuity_factor+annual_maint_cost_factor_ice)\n",
    "\n",
    "def calc_voyage_energy(df, power):\n",
    "    return df.with_columns((pl.col('voyage_duration_hours')*power).alias('voyage_energy'))\n",
    "\n",
    "def calc_annual_cost_bat(df, Pinv_bat, annuity_factor):\n",
    "    return df.with_columns((pl.col('voyage_energy')*Pinv_bat*annuity_factor).alias('annual_cost_bat'))\n",
    "\n",
    "def convt_idr_to_eur(data):\n",
    "    return data/17000\n",
    "\n",
    "def calc_ice_fuel_cost(df, fuel_price_eur):\n",
    "    return df.with_columns((pl.col('fuel_consumption_ton')*fuel_price_eur*17).alias('ice_fuel_cost'))\n",
    "\n",
    "def calc_electric_cost(df, electric_price_eur):\n",
    "    return df.with_columns((pl.col('voyage_energy')*electric_price_eur*17).alias('be_electric_cost'))\n",
    "\n",
    "# Define the function to round and cast the column\n",
    "def round_and_cast(df, column_names):\n",
    "    for column in column_names:\n",
    "        df = df.with_columns(pl.col(column).round().cast(pl.Int64))\n",
    "    return df\n",
    "\n",
    "# Function to convert int to string and add thousand separators\n",
    "def format_int_to_string(col):\n",
    "    return col.map_elements(lambda x: f\"{x:,}\")\n",
    "\n",
    "\n",
    "# Assumptions\n",
    "design_speed = 16 # knots\n",
    "sfoc = 23 # ton/day\n",
    "power = 6000 # kW\n",
    "total_annual_trips_numbers = 24\n",
    "lifetime = 25 # years\n",
    "int_rate = 0.04\n",
    "Pinv_ice = 251.2 # euro/kW\n",
    "Pinv_bat = 460 # euro/kWh\n",
    "Ccell_bat = 733 # Wh cell specific energy capacity \n",
    "annual_maint_cost_factor_ice = 0.0045 \n",
    "annuity_factor = (((1+int_rate)**lifetime)*int_rate)/(((1+int_rate)**lifetime)-1)  \n",
    "annual_cost_ice = calc_annual_cost_ice()\n",
    "electric_price = 996.74 # per kWh \n",
    "electric_price_eur = convt_idr_to_eur(electric_price)\n",
    "fuel_density = 860 # kg/m3\n",
    "fuel_price = (1000/fuel_density)*18950 # per liter convert to ton https://daihatsu.co.id/tips-and-event/tips-sahabat/detail-content/ini-daftar-harga-bbm-hari-ini-dan-klasifikasi-jenisnya/\n",
    "fuel_price_eur = convt_idr_to_eur(fuel_price)\n",
    "\n",
    "\n",
    "print(fuel_price_eur)\n",
    "\n"
   ]
  },
  {
   "cell_type": "code",
   "execution_count": 20,
   "metadata": {},
   "outputs": [
    {
     "name": "stdout",
     "output_type": "stream",
     "text": [
      "shape: (6, 17)\n",
      "┌───────────┬───────────┬──────────┬───────────┬───┬───────────┬───────────┬───────────┬───────────┐\n",
      "│ port_depa ┆ port_arri ┆ distance ┆ container ┆ … ┆ annual_co ┆ annual_co ┆ ice_fuel_ ┆ be_electr │\n",
      "│ rt        ┆ ve        ┆ ---      ┆ _handling ┆   ┆ st_ice_st ┆ st_bat_st ┆ cost_str  ┆ ic_cost_s │\n",
      "│ ---       ┆ ---       ┆ i64      ┆ _duration ┆   ┆ r         ┆ r         ┆ ---       ┆ tr        │\n",
      "│ str       ┆ str       ┆          ┆ _hour…    ┆   ┆ ---       ┆ ---       ┆ str       ┆ ---       │\n",
      "│           ┆           ┆          ┆ ---       ┆   ┆ str       ┆ str       ┆           ┆ str       │\n",
      "│           ┆           ┆          ┆ i64       ┆   ┆           ┆           ┆           ┆           │\n",
      "╞═══════════╪═══════════╪══════════╪═══════════╪═══╪═══════════╪═══════════╪═══════════╪═══════════╡\n",
      "│ Tj Perak  ┆ Tidore    ┆ 1216     ┆ 8         ┆ … ┆ 246,463   ┆ 13,427,14 ┆ 1,604,874 ┆ 454,513   │\n",
      "│           ┆           ┆          ┆           ┆   ┆           ┆ 9         ┆           ┆           │\n",
      "│ TIdore    ┆ Morotai   ┆ 156      ┆ 36        ┆ … ┆ 246,463   ┆ 1,722,562 ┆ 205,888   ┆ 58,309    │\n",
      "│ Morotai   ┆ Galela    ┆ 72       ┆ 87        ┆ … ┆ 246,463   ┆ 795,029   ┆ 95,025    ┆ 26,912    │\n",
      "│ Galela    ┆ Maba      ┆ 144      ┆ 80        ┆ … ┆ 246,463   ┆ 1,590,057 ┆ 190,051   ┆ 53,824    │\n",
      "│ Maba      ┆ Weda      ┆ 139      ┆ 91        ┆ … ┆ 246,463   ┆ 1,534,847 ┆ 183,452   ┆ 51,955    │\n",
      "│ Weda      ┆ Tj Perak  ┆ 1213     ┆ 8         ┆ … ┆ 246,463   ┆ 13,394,02 ┆ 1,600,915 ┆ 453,392   │\n",
      "│           ┆           ┆          ┆           ┆   ┆           ┆ 3         ┆           ┆           │\n",
      "└───────────┴───────────┴──────────┴───────────┴───┴───────────┴───────────┴───────────┴───────────┘\n"
     ]
    }
   ],
   "source": [
    "# Trayek t-10 data\n",
    "# https://ppid.dephub.go.id/fileupload/informasi-berkala/20230512143919.SK_Jaringan_Trayek_Tol_Laut_TA._2023.pdf\n",
    "df = pl.DataFrame(\n",
    "    {\n",
    "        'port_depart': ['Tj Perak', 'TIdore', 'Morotai', 'Galela', 'Maba', 'Weda'],\n",
    "        'port_arrive': ['Tidore', 'Morotai', 'Galela', 'Maba', 'Weda', 'Tj Perak'],\n",
    "        'distance': [1216, 156, 72, 144, 139, 1213],\n",
    "        'container_handling_duration_hours': [8, 36, 87, 80, 91, 8]\n",
    "    }\n",
    ")\n",
    "\n",
    "df = df.with_columns(\n",
    "    pl.lit(annual_cost_ice).alias('annual_cost_ice')\n",
    ")\n",
    "\n",
    "df = (\n",
    "    df\n",
    "    .pipe(calc_voyage_duration_hours, design_speed).pipe(calc_voyage_duration_days)\n",
    "    .pipe(calc_fuel_consumption, sfoc).pipe(calc_hours_to_days)\n",
    "    .pipe(calc_voyage_energy, power).pipe(calc_annual_cost_bat, Pinv_bat, annuity_factor)\n",
    "    .pipe(calc_ice_fuel_cost, fuel_price_eur).pipe(calc_electric_cost, electric_price_eur)\n",
    ")\n",
    "\n",
    "# Specify the columns to round and cast\n",
    "columns_to_round_and_cast = ['annual_cost_ice', 'annual_cost_bat', 'ice_fuel_cost', 'be_electric_cost']\n",
    "\n",
    "# Apply the rounding and casting function to the selected columns\n",
    "df = round_and_cast(df, columns_to_round_and_cast)\n",
    "\n",
    "# Add formatted columns for hover display\n",
    "\n",
    "for col in columns_to_round_and_cast:\n",
    "    df = df.with_columns(format_int_to_string(pl.col(col)).alias(f\"{col}_str\"))\n",
    "\n",
    "\n",
    "df.write_excel('polars_df.xlsx')\n",
    "\n",
    "\n",
    "\n",
    "\n",
    "\n"
   ]
  },
  {
   "cell_type": "code",
   "execution_count": 37,
   "metadata": {},
   "outputs": [
    {
     "data": {
      "application/vnd.plotly.v1+json": {
       "config": {
        "plotlyServerURL": "https://plot.ly"
       },
       "data": [
        {
         "hovertemplate": "<b>%{x}</b><br>%{data.name}: €%{hovertext}<extra></extra>",
         "hovertext": [
          "246,463",
          "246,463",
          "246,463",
          "246,463",
          "246,463",
          "246,463"
         ],
         "marker": {
          "color": "darkred"
         },
         "name": "ICE Annualized Investment Cost",
         "offsetgroup": "0",
         "type": "bar",
         "x": [
          "Tidore",
          "Morotai",
          "Galela",
          "Maba",
          "Weda",
          "Tj Perak"
         ],
         "y": [
          246463,
          246463,
          246463,
          246463,
          246463,
          246463
         ]
        },
        {
         "base": [
          246463,
          246463,
          246463,
          246463,
          246463,
          246463
         ],
         "hovertemplate": "<b>%{x}</b><br>%{data.name}: €%{hovertext}<extra></extra>",
         "hovertext": [
          "1,604,874",
          "205,888",
          "95,025",
          "190,051",
          "183,452",
          "1,600,915"
         ],
         "marker": {
          "color": "salmon"
         },
         "name": "ICE Fuel Cost",
         "offsetgroup": "0",
         "type": "bar",
         "x": [
          "Tidore",
          "Morotai",
          "Galela",
          "Maba",
          "Weda",
          "Tj Perak"
         ],
         "y": [
          1604874,
          205888,
          95025,
          190051,
          183452,
          1600915
         ]
        },
        {
         "hovertemplate": "<b>%{x}</b><br>%{data.name}: €%{hovertext}<extra></extra>",
         "hovertext": [
          "13,427,149",
          "1,722,562",
          "795,029",
          "1,590,057",
          "1,534,847",
          "13,394,023"
         ],
         "marker": {
          "color": "darkblue"
         },
         "name": "Battery Annualized Investment Cost",
         "offsetgroup": "1",
         "type": "bar",
         "x": [
          "Tidore",
          "Morotai",
          "Galela",
          "Maba",
          "Weda",
          "Tj Perak"
         ],
         "y": [
          13427149,
          1722562,
          795029,
          1590057,
          1534847,
          13394023
         ]
        },
        {
         "base": [
          13427149,
          1722562,
          795029,
          1590057,
          1534847,
          13394023
         ],
         "hovertemplate": "<b>%{x}</b><br>%{data.name}: €%{hovertext}<extra></extra>",
         "hovertext": [
          "454,513",
          "58,309",
          "26,912",
          "53,824",
          "51,955",
          "453,392"
         ],
         "marker": {
          "color": "DeepSkyBlue"
         },
         "name": "Battery Charging Cost",
         "offsetgroup": "1",
         "type": "bar",
         "x": [
          "Tidore",
          "Morotai",
          "Galela",
          "Maba",
          "Weda",
          "Tj Perak"
         ],
         "y": [
          454513,
          58309,
          26912,
          53824,
          51955,
          453392
         ]
        }
       ],
       "layout": {
        "barmode": "group",
        "legend": {
         "bgcolor": "rgba(255,255,255,0)",
         "bordercolor": "rgba(255,255,255,0)",
         "orientation": "v",
         "title": {
          "text": "Cost Components"
         },
         "x": 1,
         "xanchor": "left",
         "y": 1,
         "yanchor": "top"
        },
        "margin": {
         "b": 0,
         "l": 0,
         "r": 0,
         "t": 30
        },
        "template": {
         "data": {
          "bar": [
           {
            "error_x": {
             "color": "#2a3f5f"
            },
            "error_y": {
             "color": "#2a3f5f"
            },
            "marker": {
             "line": {
              "color": "#E5ECF6",
              "width": 0.5
             },
             "pattern": {
              "fillmode": "overlay",
              "size": 10,
              "solidity": 0.2
             }
            },
            "type": "bar"
           }
          ],
          "barpolar": [
           {
            "marker": {
             "line": {
              "color": "#E5ECF6",
              "width": 0.5
             },
             "pattern": {
              "fillmode": "overlay",
              "size": 10,
              "solidity": 0.2
             }
            },
            "type": "barpolar"
           }
          ],
          "carpet": [
           {
            "aaxis": {
             "endlinecolor": "#2a3f5f",
             "gridcolor": "white",
             "linecolor": "white",
             "minorgridcolor": "white",
             "startlinecolor": "#2a3f5f"
            },
            "baxis": {
             "endlinecolor": "#2a3f5f",
             "gridcolor": "white",
             "linecolor": "white",
             "minorgridcolor": "white",
             "startlinecolor": "#2a3f5f"
            },
            "type": "carpet"
           }
          ],
          "choropleth": [
           {
            "colorbar": {
             "outlinewidth": 0,
             "ticks": ""
            },
            "type": "choropleth"
           }
          ],
          "contour": [
           {
            "colorbar": {
             "outlinewidth": 0,
             "ticks": ""
            },
            "colorscale": [
             [
              0,
              "#0d0887"
             ],
             [
              0.1111111111111111,
              "#46039f"
             ],
             [
              0.2222222222222222,
              "#7201a8"
             ],
             [
              0.3333333333333333,
              "#9c179e"
             ],
             [
              0.4444444444444444,
              "#bd3786"
             ],
             [
              0.5555555555555556,
              "#d8576b"
             ],
             [
              0.6666666666666666,
              "#ed7953"
             ],
             [
              0.7777777777777778,
              "#fb9f3a"
             ],
             [
              0.8888888888888888,
              "#fdca26"
             ],
             [
              1,
              "#f0f921"
             ]
            ],
            "type": "contour"
           }
          ],
          "contourcarpet": [
           {
            "colorbar": {
             "outlinewidth": 0,
             "ticks": ""
            },
            "type": "contourcarpet"
           }
          ],
          "heatmap": [
           {
            "colorbar": {
             "outlinewidth": 0,
             "ticks": ""
            },
            "colorscale": [
             [
              0,
              "#0d0887"
             ],
             [
              0.1111111111111111,
              "#46039f"
             ],
             [
              0.2222222222222222,
              "#7201a8"
             ],
             [
              0.3333333333333333,
              "#9c179e"
             ],
             [
              0.4444444444444444,
              "#bd3786"
             ],
             [
              0.5555555555555556,
              "#d8576b"
             ],
             [
              0.6666666666666666,
              "#ed7953"
             ],
             [
              0.7777777777777778,
              "#fb9f3a"
             ],
             [
              0.8888888888888888,
              "#fdca26"
             ],
             [
              1,
              "#f0f921"
             ]
            ],
            "type": "heatmap"
           }
          ],
          "heatmapgl": [
           {
            "colorbar": {
             "outlinewidth": 0,
             "ticks": ""
            },
            "colorscale": [
             [
              0,
              "#0d0887"
             ],
             [
              0.1111111111111111,
              "#46039f"
             ],
             [
              0.2222222222222222,
              "#7201a8"
             ],
             [
              0.3333333333333333,
              "#9c179e"
             ],
             [
              0.4444444444444444,
              "#bd3786"
             ],
             [
              0.5555555555555556,
              "#d8576b"
             ],
             [
              0.6666666666666666,
              "#ed7953"
             ],
             [
              0.7777777777777778,
              "#fb9f3a"
             ],
             [
              0.8888888888888888,
              "#fdca26"
             ],
             [
              1,
              "#f0f921"
             ]
            ],
            "type": "heatmapgl"
           }
          ],
          "histogram": [
           {
            "marker": {
             "pattern": {
              "fillmode": "overlay",
              "size": 10,
              "solidity": 0.2
             }
            },
            "type": "histogram"
           }
          ],
          "histogram2d": [
           {
            "colorbar": {
             "outlinewidth": 0,
             "ticks": ""
            },
            "colorscale": [
             [
              0,
              "#0d0887"
             ],
             [
              0.1111111111111111,
              "#46039f"
             ],
             [
              0.2222222222222222,
              "#7201a8"
             ],
             [
              0.3333333333333333,
              "#9c179e"
             ],
             [
              0.4444444444444444,
              "#bd3786"
             ],
             [
              0.5555555555555556,
              "#d8576b"
             ],
             [
              0.6666666666666666,
              "#ed7953"
             ],
             [
              0.7777777777777778,
              "#fb9f3a"
             ],
             [
              0.8888888888888888,
              "#fdca26"
             ],
             [
              1,
              "#f0f921"
             ]
            ],
            "type": "histogram2d"
           }
          ],
          "histogram2dcontour": [
           {
            "colorbar": {
             "outlinewidth": 0,
             "ticks": ""
            },
            "colorscale": [
             [
              0,
              "#0d0887"
             ],
             [
              0.1111111111111111,
              "#46039f"
             ],
             [
              0.2222222222222222,
              "#7201a8"
             ],
             [
              0.3333333333333333,
              "#9c179e"
             ],
             [
              0.4444444444444444,
              "#bd3786"
             ],
             [
              0.5555555555555556,
              "#d8576b"
             ],
             [
              0.6666666666666666,
              "#ed7953"
             ],
             [
              0.7777777777777778,
              "#fb9f3a"
             ],
             [
              0.8888888888888888,
              "#fdca26"
             ],
             [
              1,
              "#f0f921"
             ]
            ],
            "type": "histogram2dcontour"
           }
          ],
          "mesh3d": [
           {
            "colorbar": {
             "outlinewidth": 0,
             "ticks": ""
            },
            "type": "mesh3d"
           }
          ],
          "parcoords": [
           {
            "line": {
             "colorbar": {
              "outlinewidth": 0,
              "ticks": ""
             }
            },
            "type": "parcoords"
           }
          ],
          "pie": [
           {
            "automargin": true,
            "type": "pie"
           }
          ],
          "scatter": [
           {
            "fillpattern": {
             "fillmode": "overlay",
             "size": 10,
             "solidity": 0.2
            },
            "type": "scatter"
           }
          ],
          "scatter3d": [
           {
            "line": {
             "colorbar": {
              "outlinewidth": 0,
              "ticks": ""
             }
            },
            "marker": {
             "colorbar": {
              "outlinewidth": 0,
              "ticks": ""
             }
            },
            "type": "scatter3d"
           }
          ],
          "scattercarpet": [
           {
            "marker": {
             "colorbar": {
              "outlinewidth": 0,
              "ticks": ""
             }
            },
            "type": "scattercarpet"
           }
          ],
          "scattergeo": [
           {
            "marker": {
             "colorbar": {
              "outlinewidth": 0,
              "ticks": ""
             }
            },
            "type": "scattergeo"
           }
          ],
          "scattergl": [
           {
            "marker": {
             "colorbar": {
              "outlinewidth": 0,
              "ticks": ""
             }
            },
            "type": "scattergl"
           }
          ],
          "scattermapbox": [
           {
            "marker": {
             "colorbar": {
              "outlinewidth": 0,
              "ticks": ""
             }
            },
            "type": "scattermapbox"
           }
          ],
          "scatterpolar": [
           {
            "marker": {
             "colorbar": {
              "outlinewidth": 0,
              "ticks": ""
             }
            },
            "type": "scatterpolar"
           }
          ],
          "scatterpolargl": [
           {
            "marker": {
             "colorbar": {
              "outlinewidth": 0,
              "ticks": ""
             }
            },
            "type": "scatterpolargl"
           }
          ],
          "scatterternary": [
           {
            "marker": {
             "colorbar": {
              "outlinewidth": 0,
              "ticks": ""
             }
            },
            "type": "scatterternary"
           }
          ],
          "surface": [
           {
            "colorbar": {
             "outlinewidth": 0,
             "ticks": ""
            },
            "colorscale": [
             [
              0,
              "#0d0887"
             ],
             [
              0.1111111111111111,
              "#46039f"
             ],
             [
              0.2222222222222222,
              "#7201a8"
             ],
             [
              0.3333333333333333,
              "#9c179e"
             ],
             [
              0.4444444444444444,
              "#bd3786"
             ],
             [
              0.5555555555555556,
              "#d8576b"
             ],
             [
              0.6666666666666666,
              "#ed7953"
             ],
             [
              0.7777777777777778,
              "#fb9f3a"
             ],
             [
              0.8888888888888888,
              "#fdca26"
             ],
             [
              1,
              "#f0f921"
             ]
            ],
            "type": "surface"
           }
          ],
          "table": [
           {
            "cells": {
             "fill": {
              "color": "#EBF0F8"
             },
             "line": {
              "color": "white"
             }
            },
            "header": {
             "fill": {
              "color": "#C8D4E3"
             },
             "line": {
              "color": "white"
             }
            },
            "type": "table"
           }
          ]
         },
         "layout": {
          "annotationdefaults": {
           "arrowcolor": "#2a3f5f",
           "arrowhead": 0,
           "arrowwidth": 1
          },
          "autotypenumbers": "strict",
          "coloraxis": {
           "colorbar": {
            "outlinewidth": 0,
            "ticks": ""
           }
          },
          "colorscale": {
           "diverging": [
            [
             0,
             "#8e0152"
            ],
            [
             0.1,
             "#c51b7d"
            ],
            [
             0.2,
             "#de77ae"
            ],
            [
             0.3,
             "#f1b6da"
            ],
            [
             0.4,
             "#fde0ef"
            ],
            [
             0.5,
             "#f7f7f7"
            ],
            [
             0.6,
             "#e6f5d0"
            ],
            [
             0.7,
             "#b8e186"
            ],
            [
             0.8,
             "#7fbc41"
            ],
            [
             0.9,
             "#4d9221"
            ],
            [
             1,
             "#276419"
            ]
           ],
           "sequential": [
            [
             0,
             "#0d0887"
            ],
            [
             0.1111111111111111,
             "#46039f"
            ],
            [
             0.2222222222222222,
             "#7201a8"
            ],
            [
             0.3333333333333333,
             "#9c179e"
            ],
            [
             0.4444444444444444,
             "#bd3786"
            ],
            [
             0.5555555555555556,
             "#d8576b"
            ],
            [
             0.6666666666666666,
             "#ed7953"
            ],
            [
             0.7777777777777778,
             "#fb9f3a"
            ],
            [
             0.8888888888888888,
             "#fdca26"
            ],
            [
             1,
             "#f0f921"
            ]
           ],
           "sequentialminus": [
            [
             0,
             "#0d0887"
            ],
            [
             0.1111111111111111,
             "#46039f"
            ],
            [
             0.2222222222222222,
             "#7201a8"
            ],
            [
             0.3333333333333333,
             "#9c179e"
            ],
            [
             0.4444444444444444,
             "#bd3786"
            ],
            [
             0.5555555555555556,
             "#d8576b"
            ],
            [
             0.6666666666666666,
             "#ed7953"
            ],
            [
             0.7777777777777778,
             "#fb9f3a"
            ],
            [
             0.8888888888888888,
             "#fdca26"
            ],
            [
             1,
             "#f0f921"
            ]
           ]
          },
          "colorway": [
           "#636efa",
           "#EF553B",
           "#00cc96",
           "#ab63fa",
           "#FFA15A",
           "#19d3f3",
           "#FF6692",
           "#B6E880",
           "#FF97FF",
           "#FECB52"
          ],
          "font": {
           "color": "#2a3f5f"
          },
          "geo": {
           "bgcolor": "white",
           "lakecolor": "white",
           "landcolor": "#E5ECF6",
           "showlakes": true,
           "showland": true,
           "subunitcolor": "white"
          },
          "hoverlabel": {
           "align": "left"
          },
          "hovermode": "closest",
          "mapbox": {
           "style": "light"
          },
          "paper_bgcolor": "white",
          "plot_bgcolor": "#E5ECF6",
          "polar": {
           "angularaxis": {
            "gridcolor": "white",
            "linecolor": "white",
            "ticks": ""
           },
           "bgcolor": "#E5ECF6",
           "radialaxis": {
            "gridcolor": "white",
            "linecolor": "white",
            "ticks": ""
           }
          },
          "scene": {
           "xaxis": {
            "backgroundcolor": "#E5ECF6",
            "gridcolor": "white",
            "gridwidth": 2,
            "linecolor": "white",
            "showbackground": true,
            "ticks": "",
            "zerolinecolor": "white"
           },
           "yaxis": {
            "backgroundcolor": "#E5ECF6",
            "gridcolor": "white",
            "gridwidth": 2,
            "linecolor": "white",
            "showbackground": true,
            "ticks": "",
            "zerolinecolor": "white"
           },
           "zaxis": {
            "backgroundcolor": "#E5ECF6",
            "gridcolor": "white",
            "gridwidth": 2,
            "linecolor": "white",
            "showbackground": true,
            "ticks": "",
            "zerolinecolor": "white"
           }
          },
          "shapedefaults": {
           "line": {
            "color": "#2a3f5f"
           }
          },
          "ternary": {
           "aaxis": {
            "gridcolor": "white",
            "linecolor": "white",
            "ticks": ""
           },
           "baxis": {
            "gridcolor": "white",
            "linecolor": "white",
            "ticks": ""
           },
           "bgcolor": "#E5ECF6",
           "caxis": {
            "gridcolor": "white",
            "linecolor": "white",
            "ticks": ""
           }
          },
          "title": {
           "x": 0.05
          },
          "xaxis": {
           "automargin": true,
           "gridcolor": "white",
           "linecolor": "white",
           "ticks": "",
           "title": {
            "standoff": 15
           },
           "zerolinecolor": "white",
           "zerolinewidth": 2
          },
          "yaxis": {
           "automargin": true,
           "gridcolor": "white",
           "linecolor": "white",
           "ticks": "",
           "title": {
            "standoff": 15
           },
           "zerolinecolor": "white",
           "zerolinewidth": 2
          }
         }
        },
        "title": {
         "text": "Annual Costs for ICE and Battery Electric Ships by Port of Arrival"
        },
        "xaxis": {
         "title": {
          "text": "Port of Arrival"
         }
        },
        "yaxis": {
         "title": {
          "text": "Annual costs in €/a"
         }
        }
       }
      }
     },
     "metadata": {},
     "output_type": "display_data"
    }
   ],
   "source": [
    "voyage_df = df\n",
    "\n",
    "# Define bars for the ICE and Battery Electric costs with distinct colors\n",
    "fig = go.Figure(data=[\n",
    "    go.Bar(name='ICE Annualized Investment Cost', x=voyage_df['port_arrive'], y=voyage_df['annual_cost_ice'], \n",
    "           hovertext=voyage_df['annual_cost_ice_str'], marker=dict(color='darkred'), offsetgroup=0),\n",
    "    go.Bar(name='ICE Fuel Cost', x=voyage_df['port_arrive'], y=voyage_df['ice_fuel_cost'], \n",
    "           hovertext=voyage_df['ice_fuel_cost_str'], marker=dict(color='salmon'), offsetgroup=0, base=voyage_df['annual_cost_ice']),\n",
    "    go.Bar(name='Battery Annualized Investment Cost', x=voyage_df['port_arrive'], y=voyage_df['annual_cost_bat'], \n",
    "           hovertext=voyage_df['annual_cost_bat_str'], marker=dict(color='darkblue'), offsetgroup=1),\n",
    "    go.Bar(name='Battery Charging Cost', x=voyage_df['port_arrive'], y=voyage_df['be_electric_cost'], \n",
    "           hovertext=voyage_df['be_electric_cost_str'], marker=dict(color='DeepSkyBlue'), offsetgroup=1, base=voyage_df['annual_cost_bat'])\n",
    "])\n",
    "\n",
    "# Update the layout for a grouped bar plot\n",
    "fig.update_layout(\n",
    "    barmode='group',\n",
    "    title='Annual Costs for ICE and Battery Electric Ships by Port of Arrival',\n",
    "    xaxis=dict(title='Port of Arrival'),\n",
    "    yaxis=dict(title='Annual costs in €/a'),\n",
    "    legend=dict(\n",
    "        title='Cost Components',\n",
    "        x=1,\n",
    "        xanchor='left',\n",
    "        y=1,\n",
    "        yanchor='top',\n",
    "        bgcolor='rgba(255,255,255,0)',\n",
    "        bordercolor='rgba(255,255,255,0)'\n",
    "    ),\n",
    "    legend_orientation=\"v\",\n",
    "    margin=dict(l=0, r=0, t=30, b=0)  # Adjust margins to fit the legend outside the view if needed\n",
    ")\n",
    "\n",
    "\n",
    "\n",
    "# Add custom hovertemplate for each trace\n",
    "\n",
    "fig.update_traces(\n",
    "    hovertemplate=\"<b>%{x}</b><br>%{data.name}: €%{hovertext}<extra></extra>\",\n",
    "    selector=dict(name='ICE Annualized Investment Cost')\n",
    ")\n",
    "fig.update_traces(\n",
    "    hovertemplate=\"<b>%{x}</b><br>%{data.name}: €%{hovertext}<extra></extra>\",\n",
    "    selector=dict(name='ICE Fuel Cost')\n",
    ")\n",
    "fig.update_traces(\n",
    "    hovertemplate=\"<b>%{x}</b><br>%{data.name}: €%{hovertext}<extra></extra>\",\n",
    "    selector=dict(name='Battery Annualized Investment Cost')\n",
    ")\n",
    "fig.update_traces(\n",
    "    hovertemplate=\"<b>%{x}</b><br>%{data.name}: €%{hovertext}<extra></extra>\",\n",
    "    selector=dict(name='Battery Charging Cost')\n",
    ")\n",
    "\n",
    "\n",
    "# Show the figure\n",
    "fig.show()\n",
    "\n",
    "# Export the Annualized Investment Costs plot to HTML\n",
    "# fig.write_html(\"annual_costs.html\")"
   ]
  },
  {
   "cell_type": "code",
   "execution_count": null,
   "metadata": {},
   "outputs": [],
   "source": [
    "import plotly.graph_objects as go\n",
    "import pandas as pd\n",
    "\n",
    "# Load the data from the Excel file (make sure to use the correct path where the file is located)\n",
    "voyage_df = df\n",
    "\n",
    "# Plot for Annualized Investment Costs\n",
    "fig_investment = go.Figure(data=[\n",
    "    go.Bar(name='ICE Annual Cost', x=voyage_df['port_arrive'], y=voyage_df['annual_cost_ice'], marker=dict(color='darkred')),\n",
    "    go.Bar(name='Battery Annual Cost', x=voyage_df['port_arrive'], y=voyage_df['annual_cost_bat'], marker=dict(color='darkblue'))\n",
    "])\n",
    "\n",
    "fig_investment.update_layout(\n",
    "    barmode='group',\n",
    "    title='Annualized Investment Costs for ICE and Battery Electric Ships by Port of Arrival',\n",
    "    xaxis=dict(title='Port of Arrival'),\n",
    "    yaxis=dict(title='Annualized Investment Cost (€)'),\n",
    "    legend=dict(title='Cost Components')\n",
    ")\n",
    "\n",
    "\n",
    "\n",
    "# Display the plots\n",
    "# fig_investment.show()\n",
    "\n",
    "# Export the Annualized Investment Costs plot to HTML\n",
    "fig_investment.write_html(\"annualized_investment_costs.html\")\n",
    "\n"
   ]
  },
  {
   "cell_type": "code",
   "execution_count": null,
   "metadata": {},
   "outputs": [],
   "source": [
    "# Plot for Operational Costs\n",
    "fig_operational = go.Figure(data=[\n",
    "    go.Bar(name='ICE Fuel Cost', x=voyage_df['port_arrive'], y=voyage_df['ice_fuel_cost'], marker=dict(color='salmon')),\n",
    "    go.Bar(name='Battery Electric Cost', x=voyage_df['port_arrive'], y=voyage_df['be_electric_cost'], marker=dict(color='lightblue'))\n",
    "])\n",
    "\n",
    "fig_operational.update_layout(\n",
    "    barmode='group',\n",
    "    title='Operational Costs for ICE and Battery Electric Ships by Port of Arrival',\n",
    "    xaxis=dict(title='Port of Arrival'),\n",
    "    yaxis=dict(title='Operational Cost (€)'),\n",
    "    legend=dict(title='Cost Components')\n",
    ")\n",
    "\n",
    "# Export the Operational Costs plot to HTML\n",
    "fig_operational.write_html(\"operational_costs.html\")"
   ]
  }
 ],
 "metadata": {
  "kernelspec": {
   "display_name": "django_venv",
   "language": "python",
   "name": "python3"
  },
  "language_info": {
   "codemirror_mode": {
    "name": "ipython",
    "version": 3
   },
   "file_extension": ".py",
   "mimetype": "text/x-python",
   "name": "python",
   "nbconvert_exporter": "python",
   "pygments_lexer": "ipython3",
   "version": "3.10.9"
  }
 },
 "nbformat": 4,
 "nbformat_minor": 2
}
